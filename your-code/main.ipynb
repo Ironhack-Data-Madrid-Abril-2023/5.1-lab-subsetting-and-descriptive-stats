{
 "cells": [
  {
   "cell_type": "markdown",
   "metadata": {},
   "source": [
    "# Before you start :\n",
    "   - These exercises are related to the Subsetting and Descriptive Stats lessons.\n",
    "   - Keep in mind that you need to use some of the functions you learned in the previous lessons.\n",
    "   - All datasets are provided in the `your-code` folder of this lab.\n",
    "   - Elaborate your codes and outputs as much as you can.\n",
    "   - Try your best to answer the questions and complete the tasks and most importantly enjoy the process!!!"
   ]
  },
  {
   "cell_type": "markdown",
   "metadata": {},
   "source": [
    "#### Import all the libraries that are necessary"
   ]
  },
  {
   "cell_type": "code",
   "execution_count": 43,
   "metadata": {},
   "outputs": [],
   "source": [
    "import pandas as pd"
   ]
  },
  {
   "cell_type": "code",
   "execution_count": 44,
   "metadata": {},
   "outputs": [],
   "source": [
    "import numpy as np"
   ]
  },
  {
   "cell_type": "code",
   "execution_count": 45,
   "metadata": {},
   "outputs": [],
   "source": [
    "import seaborn as sns"
   ]
  },
  {
   "cell_type": "markdown",
   "metadata": {},
   "source": [
    "# Challenge 1"
   ]
  },
  {
   "cell_type": "markdown",
   "metadata": {},
   "source": [
    "#### In this challenge we will use the `Temp_States.csv` file. \n",
    "\n",
    "#### First import it into a data frame called `temp`."
   ]
  },
  {
   "cell_type": "code",
   "execution_count": 46,
   "metadata": {},
   "outputs": [],
   "source": [
    "df=pd.read_csv('Temp_States.csv')"
   ]
  },
  {
   "cell_type": "markdown",
   "metadata": {},
   "source": [
    "#### Print `temp`"
   ]
  },
  {
   "cell_type": "code",
   "execution_count": 47,
   "metadata": {},
   "outputs": [
    {
     "data": {
      "text/html": [
       "<div>\n",
       "<style scoped>\n",
       "    .dataframe tbody tr th:only-of-type {\n",
       "        vertical-align: middle;\n",
       "    }\n",
       "\n",
       "    .dataframe tbody tr th {\n",
       "        vertical-align: top;\n",
       "    }\n",
       "\n",
       "    .dataframe thead th {\n",
       "        text-align: right;\n",
       "    }\n",
       "</style>\n",
       "<table border=\"1\" class=\"dataframe\">\n",
       "  <thead>\n",
       "    <tr style=\"text-align: right;\">\n",
       "      <th></th>\n",
       "      <th>City</th>\n",
       "      <th>State</th>\n",
       "      <th>Temperature</th>\n",
       "    </tr>\n",
       "  </thead>\n",
       "  <tbody>\n",
       "    <tr>\n",
       "      <th>0</th>\n",
       "      <td>NYC</td>\n",
       "      <td>New York</td>\n",
       "      <td>19.444444</td>\n",
       "    </tr>\n",
       "    <tr>\n",
       "      <th>1</th>\n",
       "      <td>Albany</td>\n",
       "      <td>New York</td>\n",
       "      <td>9.444444</td>\n",
       "    </tr>\n",
       "    <tr>\n",
       "      <th>2</th>\n",
       "      <td>Buffalo</td>\n",
       "      <td>New York</td>\n",
       "      <td>3.333333</td>\n",
       "    </tr>\n",
       "    <tr>\n",
       "      <th>3</th>\n",
       "      <td>Hartford</td>\n",
       "      <td>Connecticut</td>\n",
       "      <td>17.222222</td>\n",
       "    </tr>\n",
       "    <tr>\n",
       "      <th>4</th>\n",
       "      <td>Bridgeport</td>\n",
       "      <td>Connecticut</td>\n",
       "      <td>14.444444</td>\n",
       "    </tr>\n",
       "  </tbody>\n",
       "</table>\n",
       "</div>"
      ],
      "text/plain": [
       "         City        State  Temperature\n",
       "0         NYC     New York    19.444444\n",
       "1      Albany     New York     9.444444\n",
       "2     Buffalo     New York     3.333333\n",
       "3    Hartford  Connecticut    17.222222\n",
       "4  Bridgeport  Connecticut    14.444444"
      ]
     },
     "execution_count": 47,
     "metadata": {},
     "output_type": "execute_result"
    }
   ],
   "source": [
    "df.head()"
   ]
  },
  {
   "cell_type": "markdown",
   "metadata": {},
   "source": [
    "#### Explore the data types of the Temp dataframe. What type of data do we have? Comment your result."
   ]
  },
  {
   "cell_type": "code",
   "execution_count": 48,
   "metadata": {},
   "outputs": [
    {
     "name": "stdout",
     "output_type": "stream",
     "text": [
      "<class 'pandas.core.frame.DataFrame'>\n",
      "RangeIndex: 7 entries, 0 to 6\n",
      "Data columns (total 3 columns):\n",
      " #   Column       Non-Null Count  Dtype  \n",
      "---  ------       --------------  -----  \n",
      " 0   City         7 non-null      object \n",
      " 1   State        7 non-null      object \n",
      " 2   Temperature  7 non-null      float64\n",
      "dtypes: float64(1), object(2)\n",
      "memory usage: 1.1 KB\n"
     ]
    }
   ],
   "source": [
    "# your answer here\n",
    "df.info(memory_usage='deep')"
   ]
  },
  {
   "cell_type": "code",
   "execution_count": 49,
   "metadata": {},
   "outputs": [
    {
     "data": {
      "text/plain": [
       "(7, 3)"
      ]
     },
     "execution_count": 49,
     "metadata": {},
     "output_type": "execute_result"
    }
   ],
   "source": [
    "df.shape"
   ]
  },
  {
   "cell_type": "code",
   "execution_count": 50,
   "metadata": {},
   "outputs": [
    {
     "data": {
      "text/plain": [
       "count     7.000000\n",
       "mean     15.158730\n",
       "std       6.695265\n",
       "min       3.333333\n",
       "25%      11.944444\n",
       "50%      17.222222\n",
       "75%      19.722222\n",
       "max      22.222222\n",
       "Name: Temperature, dtype: float64"
      ]
     },
     "execution_count": 50,
     "metadata": {},
     "output_type": "execute_result"
    }
   ],
   "source": [
    "df.Temperature.describe()"
   ]
  },
  {
   "cell_type": "markdown",
   "metadata": {},
   "source": [
    "#### Select the rows where state is New York"
   ]
  },
  {
   "cell_type": "code",
   "execution_count": 51,
   "metadata": {},
   "outputs": [
    {
     "name": "stdout",
     "output_type": "stream",
     "text": [
      "      City     State  Temperature\n",
      "0      NYC  New York    19.444444\n",
      "1   Albany  New York     9.444444\n",
      "2  Buffalo  New York     3.333333\n"
     ]
    }
   ],
   "source": [
    "new_york_df = df[df['State'] == 'New York']\n",
    "print(new_york_df)"
   ]
  },
  {
   "cell_type": "markdown",
   "metadata": {},
   "source": [
    "#### What is the average of the temperature of cities in New York?"
   ]
  },
  {
   "cell_type": "code",
   "execution_count": 52,
   "metadata": {},
   "outputs": [
    {
     "name": "stdout",
     "output_type": "stream",
     "text": [
      "10.74074074074074\n"
     ]
    }
   ],
   "source": [
    "temperatura_media = df[df['State'] == 'New York']['Temperature'].mean()\n",
    "print(temperatura_media)\n"
   ]
  },
  {
   "cell_type": "markdown",
   "metadata": {},
   "source": [
    "#### We want to know cities and states with Temperature above 15 degress Celcius"
   ]
  },
  {
   "cell_type": "code",
   "execution_count": 53,
   "metadata": {},
   "outputs": [
    {
     "name": "stdout",
     "output_type": "stream",
     "text": [
      "['NYC', 'Hartford', 'Treton', 'Newark']\n",
      "['New York', 'Connecticut', 'New Jersey', 'New Jersey']\n"
     ]
    }
   ],
   "source": [
    "# Ciudades con temperatura mayor a 15 grados\n",
    "filtered_cities = df[df['Temperature'] > 15]['City'].tolist()\n",
    "print(filtered_cities)\n",
    "\n",
    "\n",
    "# Estados con temperatura mayor a 15 grados\n",
    "filtered_states = df[df['Temperature'] > 15]['State'].tolist()\n",
    "print(filtered_states)\n"
   ]
  },
  {
   "cell_type": "markdown",
   "metadata": {},
   "source": [
    "#### Now, return only the cities that have a temperature above 15 degress Celcius"
   ]
  },
  {
   "cell_type": "code",
   "execution_count": 54,
   "metadata": {},
   "outputs": [
    {
     "name": "stdout",
     "output_type": "stream",
     "text": [
      "['NYC', 'Hartford', 'Treton', 'Newark']\n"
     ]
    }
   ],
   "source": [
    "\n",
    "filtered_cities = df[df['Temperature'] > 15]['City'].tolist()\n",
    "print(filtered_cities)"
   ]
  },
  {
   "cell_type": "markdown",
   "metadata": {},
   "source": [
    "#### We want to know which cities have a temperature above 15 degrees Celcius and below 20 degrees Celcius\n",
    "\n",
    "*Hint: First write the condition then select the rows.*"
   ]
  },
  {
   "cell_type": "code",
   "execution_count": 55,
   "metadata": {},
   "outputs": [
    {
     "name": "stdout",
     "output_type": "stream",
     "text": [
      "['NYC', 'Hartford']\n"
     ]
    }
   ],
   "source": [
    "filtered_cities = df[(df['Temperature'] > 15) & (df['Temperature'] < 20)]['City'].tolist()\n",
    "print(filtered_cities)\n"
   ]
  },
  {
   "cell_type": "markdown",
   "metadata": {},
   "source": [
    "#### Find the mean and the standard deviation of the temperature of each state.\n",
    "\n",
    "*Hint: Use functions from Data Manipulation lesson*"
   ]
  },
  {
   "cell_type": "code",
   "execution_count": 56,
   "metadata": {},
   "outputs": [
    {
     "name": "stdout",
     "output_type": "stream",
     "text": [
      "            Temperature          \n",
      "                   mean       std\n",
      "State                            \n",
      "Connecticut   15.833333  1.964186\n",
      "New Jersey    21.111111  1.571348\n",
      "New York      10.740741  8.133404\n"
     ]
    }
   ],
   "source": [
    "resumen_por_estado = df.groupby('State').agg({'Temperature': ['mean', 'std']})\n",
    "print(resumen_por_estado)\n"
   ]
  },
  {
   "cell_type": "markdown",
   "metadata": {
    "collapsed": true
   },
   "source": [
    "# Challenge 2"
   ]
  },
  {
   "cell_type": "markdown",
   "metadata": {},
   "source": [
    "#### Load the `employee.csv` file into a DataFrame. Call the dataframe `employee`"
   ]
  },
  {
   "cell_type": "code",
   "execution_count": 57,
   "metadata": {
    "collapsed": true
   },
   "outputs": [],
   "source": [
    "df2=pd.read_csv('employee.csv')"
   ]
  },
  {
   "cell_type": "markdown",
   "metadata": {},
   "source": [
    "#### Explore the data types of the Temp dataframe. Comment your results"
   ]
  },
  {
   "cell_type": "code",
   "execution_count": 58,
   "metadata": {},
   "outputs": [
    {
     "data": {
      "text/plain": [
       "<bound method DataFrame.info of      Name Department Education Gender      Title  Years  Salary\n",
       "0    Jose         IT  Bachelor      M    analyst      1      35\n",
       "1   Maria         IT    Master      F    analyst      2      30\n",
       "2   David         HR    Master      M    analyst      2      30\n",
       "3   Sonia         HR  Bachelor      F    analyst      4      35\n",
       "4  Samuel      Sales    Master      M  associate      3      55\n",
       "5     Eva      Sales  Bachelor      F  associate      2      55\n",
       "6  Carlos         IT    Master      M         VP      8      70\n",
       "7   Pedro         IT       Phd      M  associate      7      60\n",
       "8     Ana         HR    Master      F         VP      8      70>"
      ]
     },
     "execution_count": 58,
     "metadata": {},
     "output_type": "execute_result"
    }
   ],
   "source": [
    "df2.info\n"
   ]
  },
  {
   "cell_type": "code",
   "execution_count": 66,
   "metadata": {},
   "outputs": [
    {
     "data": {
      "text/html": [
       "<div>\n",
       "<style scoped>\n",
       "    .dataframe tbody tr th:only-of-type {\n",
       "        vertical-align: middle;\n",
       "    }\n",
       "\n",
       "    .dataframe tbody tr th {\n",
       "        vertical-align: top;\n",
       "    }\n",
       "\n",
       "    .dataframe thead th {\n",
       "        text-align: right;\n",
       "    }\n",
       "</style>\n",
       "<table border=\"1\" class=\"dataframe\">\n",
       "  <thead>\n",
       "    <tr style=\"text-align: right;\">\n",
       "      <th></th>\n",
       "      <th>Name</th>\n",
       "      <th>Department</th>\n",
       "      <th>Education</th>\n",
       "      <th>Gender</th>\n",
       "      <th>Title</th>\n",
       "      <th>Years</th>\n",
       "      <th>Salary</th>\n",
       "    </tr>\n",
       "  </thead>\n",
       "  <tbody>\n",
       "    <tr>\n",
       "      <th>0</th>\n",
       "      <td>Jose</td>\n",
       "      <td>IT</td>\n",
       "      <td>Bachelor</td>\n",
       "      <td>M</td>\n",
       "      <td>analyst</td>\n",
       "      <td>1</td>\n",
       "      <td>35</td>\n",
       "    </tr>\n",
       "    <tr>\n",
       "      <th>1</th>\n",
       "      <td>Maria</td>\n",
       "      <td>IT</td>\n",
       "      <td>Master</td>\n",
       "      <td>F</td>\n",
       "      <td>analyst</td>\n",
       "      <td>2</td>\n",
       "      <td>30</td>\n",
       "    </tr>\n",
       "    <tr>\n",
       "      <th>2</th>\n",
       "      <td>David</td>\n",
       "      <td>HR</td>\n",
       "      <td>Master</td>\n",
       "      <td>M</td>\n",
       "      <td>analyst</td>\n",
       "      <td>2</td>\n",
       "      <td>30</td>\n",
       "    </tr>\n",
       "    <tr>\n",
       "      <th>3</th>\n",
       "      <td>Sonia</td>\n",
       "      <td>HR</td>\n",
       "      <td>Bachelor</td>\n",
       "      <td>F</td>\n",
       "      <td>analyst</td>\n",
       "      <td>4</td>\n",
       "      <td>35</td>\n",
       "    </tr>\n",
       "    <tr>\n",
       "      <th>4</th>\n",
       "      <td>Samuel</td>\n",
       "      <td>Sales</td>\n",
       "      <td>Master</td>\n",
       "      <td>M</td>\n",
       "      <td>associate</td>\n",
       "      <td>3</td>\n",
       "      <td>55</td>\n",
       "    </tr>\n",
       "  </tbody>\n",
       "</table>\n",
       "</div>"
      ],
      "text/plain": [
       "     Name Department Education Gender      Title  Years  Salary\n",
       "0    Jose         IT  Bachelor      M    analyst      1      35\n",
       "1   Maria         IT    Master      F    analyst      2      30\n",
       "2   David         HR    Master      M    analyst      2      30\n",
       "3   Sonia         HR  Bachelor      F    analyst      4      35\n",
       "4  Samuel      Sales    Master      M  associate      3      55"
      ]
     },
     "execution_count": 66,
     "metadata": {},
     "output_type": "execute_result"
    }
   ],
   "source": [
    "df2.head()"
   ]
  },
  {
   "cell_type": "code",
   "execution_count": 67,
   "metadata": {},
   "outputs": [
    {
     "data": {
      "text/plain": [
       "(7, 3)"
      ]
     },
     "execution_count": 67,
     "metadata": {},
     "output_type": "execute_result"
    }
   ],
   "source": [
    "df.shape"
   ]
  },
  {
   "cell_type": "markdown",
   "metadata": {},
   "source": [
    "#### Show visually the frequency distribution (histogram) of the employee dataset. In few words describe these histograms?"
   ]
  },
  {
   "cell_type": "code",
   "execution_count": 68,
   "metadata": {},
   "outputs": [],
   "source": [
    "import matplotlib.pyplot as plt"
   ]
  },
  {
   "cell_type": "code",
   "execution_count": 71,
   "metadata": {},
   "outputs": [
    {
     "data": {
      "image/png": "[encoded data removed]",
      "text/plain": [
       "<Figure size 640x480 with 1 Axes>"
      ]
     },
     "metadata": {},
     "output_type": "display_data"
    },
    {
     "data": {
      "image/png": "[encoded data removed]",
      "text/plain": [
       "<Figure size 640x480 with 1 Axes>"
      ]
     },
     "metadata": {},
     "output_type": "display_data"
    }
   ],
   "source": [
    "plt.hist(df2['Years'])\n",
    "\n",
    "plt.title('Distribución de años de experiencia')\n",
    "plt.xlabel('Años de experiencia')\n",
    "plt.ylabel('Frecuencia')\n",
    "plt.show()\n",
    "\n",
    "plt.hist(df2['Salary'])\n",
    "\n",
    "plt.title('Distribución de salarios')\n",
    "plt.xlabel('Rango de salario')\n",
    "plt.ylabel('Frecuencia')\n",
    "plt.show()"
   ]
  },
  {
   "cell_type": "markdown",
   "metadata": {},
   "source": [
    "#### What's the average salary in this company?"
   ]
  },
  {
   "cell_type": "code",
   "execution_count": 73,
   "metadata": {},
   "outputs": [
    {
     "name": "stdout",
     "output_type": "stream",
     "text": [
      "48.888888888888886\n"
     ]
    }
   ],
   "source": [
    "media_salario = df2['Salary'].mean()\n",
    "print(media_salario)"
   ]
  },
  {
   "cell_type": "markdown",
   "metadata": {},
   "source": [
    "#### What's the highest salary?"
   ]
  },
  {
   "cell_type": "code",
   "execution_count": 75,
   "metadata": {},
   "outputs": [
    {
     "data": {
      "text/plain": [
       "70"
      ]
     },
     "execution_count": 75,
     "metadata": {},
     "output_type": "execute_result"
    }
   ],
   "source": [
    "max_salario = df2['Salary'].max()\n",
    "max_salario"
   ]
  },
  {
   "cell_type": "markdown",
   "metadata": {},
   "source": [
    "#### What's the lowest salary?"
   ]
  },
  {
   "cell_type": "code",
   "execution_count": 76,
   "metadata": {},
   "outputs": [
    {
     "data": {
      "text/plain": [
       "30"
      ]
     },
     "execution_count": 76,
     "metadata": {},
     "output_type": "execute_result"
    }
   ],
   "source": [
    "min_salario = df2['Salary'].min()\n",
    "min_salario\n"
   ]
  },
  {
   "cell_type": "markdown",
   "metadata": {},
   "source": [
    "#### Who are the employees with the lowest salary?"
   ]
  },
  {
   "cell_type": "code",
   "execution_count": 80,
   "metadata": {},
   "outputs": [
    {
     "name": "stdout",
     "output_type": "stream",
     "text": [
      "     Name Department Education Gender      Title  Years  Salary\n",
      "1   Maria         IT    Master      F    analyst      2      30\n",
      "2   David         HR    Master      M    analyst      2      30\n",
      "0    Jose         IT  Bachelor      M    analyst      1      35\n",
      "3   Sonia         HR  Bachelor      F    analyst      4      35\n",
      "4  Samuel      Sales    Master      M  associate      3      55\n"
     ]
    }
   ],
   "source": [
    "# Ordeno por salario\n",
    "df2_sorted = df2.sort_values('Salary')\n",
    "\n",
    "# Selecciono empleados con menos salario\n",
    "empleados_menos_salario = df2_sorted.head()\n",
    "print(empleados_menos_salario)"
   ]
  },
  {
   "cell_type": "markdown",
   "metadata": {},
   "source": [
    "#### Could you give all the information about an employee called David?"
   ]
  },
  {
   "cell_type": "code",
   "execution_count": 82,
   "metadata": {},
   "outputs": [
    {
     "name": "stdout",
     "output_type": "stream",
     "text": [
      "    Name Department Education Gender    Title  Years  Salary\n",
      "2  David         HR    Master      M  analyst      2      30\n"
     ]
    }
   ],
   "source": [
    "david_info = df2.loc[df2['Name'] == 'David']\n",
    "print(david_info)\n"
   ]
  },
  {
   "cell_type": "markdown",
   "metadata": {},
   "source": [
    "#### Could you give only David's salary?"
   ]
  },
  {
   "cell_type": "code",
   "execution_count": 84,
   "metadata": {},
   "outputs": [
    {
     "name": "stdout",
     "output_type": "stream",
     "text": [
      "30\n"
     ]
    }
   ],
   "source": [
    "salary_david = df2.loc[df2['Name'] == 'David']['Salary'].values[0]\n",
    "print(salary_david)\n"
   ]
  },
  {
   "cell_type": "markdown",
   "metadata": {},
   "source": [
    "#### Print all the rows where job title is associate"
   ]
  },
  {
   "cell_type": "code",
   "execution_count": 87,
   "metadata": {},
   "outputs": [
    {
     "data": {
      "text/html": [
       "<div>\n",
       "<style scoped>\n",
       "    .dataframe tbody tr th:only-of-type {\n",
       "        vertical-align: middle;\n",
       "    }\n",
       "\n",
       "    .dataframe tbody tr th {\n",
       "        vertical-align: top;\n",
       "    }\n",
       "\n",
       "    .dataframe thead th {\n",
       "        text-align: right;\n",
       "    }\n",
       "</style>\n",
       "<table border=\"1\" class=\"dataframe\">\n",
       "  <thead>\n",
       "    <tr style=\"text-align: right;\">\n",
       "      <th></th>\n",
       "      <th>Name</th>\n",
       "      <th>Department</th>\n",
       "      <th>Education</th>\n",
       "      <th>Gender</th>\n",
       "      <th>Title</th>\n",
       "      <th>Years</th>\n",
       "      <th>Salary</th>\n",
       "    </tr>\n",
       "  </thead>\n",
       "  <tbody>\n",
       "    <tr>\n",
       "      <th>4</th>\n",
       "      <td>Samuel</td>\n",
       "      <td>Sales</td>\n",
       "      <td>Master</td>\n",
       "      <td>M</td>\n",
       "      <td>associate</td>\n",
       "      <td>3</td>\n",
       "      <td>55</td>\n",
       "    </tr>\n",
       "    <tr>\n",
       "      <th>5</th>\n",
       "      <td>Eva</td>\n",
       "      <td>Sales</td>\n",
       "      <td>Bachelor</td>\n",
       "      <td>F</td>\n",
       "      <td>associate</td>\n",
       "      <td>2</td>\n",
       "      <td>55</td>\n",
       "    </tr>\n",
       "    <tr>\n",
       "      <th>7</th>\n",
       "      <td>Pedro</td>\n",
       "      <td>IT</td>\n",
       "      <td>Phd</td>\n",
       "      <td>M</td>\n",
       "      <td>associate</td>\n",
       "      <td>7</td>\n",
       "      <td>60</td>\n",
       "    </tr>\n",
       "  </tbody>\n",
       "</table>\n",
       "</div>"
      ],
      "text/plain": [
       "     Name Department Education Gender      Title  Years  Salary\n",
       "4  Samuel      Sales    Master      M  associate      3      55\n",
       "5     Eva      Sales  Bachelor      F  associate      2      55\n",
       "7   Pedro         IT       Phd      M  associate      7      60"
      ]
     },
     "execution_count": 87,
     "metadata": {},
     "output_type": "execute_result"
    }
   ],
   "source": [
    "df_associates = df2[df2['Title'].str.contains('associate', case=False)]\n",
    "df_associates"
   ]
  },
  {
   "cell_type": "markdown",
   "metadata": {},
   "source": [
    "#### Print the first 3 rows of your dataframe\n",
    "\n",
    "##### Tip : There are 2 ways to do it. Do it both ways"
   ]
  },
  {
   "cell_type": "code",
   "execution_count": 89,
   "metadata": {},
   "outputs": [
    {
     "data": {
      "text/html": [
       "<div>\n",
       "<style scoped>\n",
       "    .dataframe tbody tr th:only-of-type {\n",
       "        vertical-align: middle;\n",
       "    }\n",
       "\n",
       "    .dataframe tbody tr th {\n",
       "        vertical-align: top;\n",
       "    }\n",
       "\n",
       "    .dataframe thead th {\n",
       "        text-align: right;\n",
       "    }\n",
       "</style>\n",
       "<table border=\"1\" class=\"dataframe\">\n",
       "  <thead>\n",
       "    <tr style=\"text-align: right;\">\n",
       "      <th></th>\n",
       "      <th>Name</th>\n",
       "      <th>Department</th>\n",
       "      <th>Education</th>\n",
       "      <th>Gender</th>\n",
       "      <th>Title</th>\n",
       "      <th>Years</th>\n",
       "      <th>Salary</th>\n",
       "    </tr>\n",
       "  </thead>\n",
       "  <tbody>\n",
       "    <tr>\n",
       "      <th>0</th>\n",
       "      <td>Jose</td>\n",
       "      <td>IT</td>\n",
       "      <td>Bachelor</td>\n",
       "      <td>M</td>\n",
       "      <td>analyst</td>\n",
       "      <td>1</td>\n",
       "      <td>35</td>\n",
       "    </tr>\n",
       "    <tr>\n",
       "      <th>1</th>\n",
       "      <td>Maria</td>\n",
       "      <td>IT</td>\n",
       "      <td>Master</td>\n",
       "      <td>F</td>\n",
       "      <td>analyst</td>\n",
       "      <td>2</td>\n",
       "      <td>30</td>\n",
       "    </tr>\n",
       "    <tr>\n",
       "      <th>2</th>\n",
       "      <td>David</td>\n",
       "      <td>HR</td>\n",
       "      <td>Master</td>\n",
       "      <td>M</td>\n",
       "      <td>analyst</td>\n",
       "      <td>2</td>\n",
       "      <td>30</td>\n",
       "    </tr>\n",
       "  </tbody>\n",
       "</table>\n",
       "</div>"
      ],
      "text/plain": [
       "    Name Department Education Gender    Title  Years  Salary\n",
       "0   Jose         IT  Bachelor      M  analyst      1      35\n",
       "1  Maria         IT    Master      F  analyst      2      30\n",
       "2  David         HR    Master      M  analyst      2      30"
      ]
     },
     "execution_count": 89,
     "metadata": {},
     "output_type": "execute_result"
    }
   ],
   "source": [
    "df2.head(3)\n"
   ]
  },
  {
   "cell_type": "code",
   "execution_count": 90,
   "metadata": {},
   "outputs": [
    {
     "data": {
      "text/html": [
       "<div>\n",
       "<style scoped>\n",
       "    .dataframe tbody tr th:only-of-type {\n",
       "        vertical-align: middle;\n",
       "    }\n",
       "\n",
       "    .dataframe tbody tr th {\n",
       "        vertical-align: top;\n",
       "    }\n",
       "\n",
       "    .dataframe thead th {\n",
       "        text-align: right;\n",
       "    }\n",
       "</style>\n",
       "<table border=\"1\" class=\"dataframe\">\n",
       "  <thead>\n",
       "    <tr style=\"text-align: right;\">\n",
       "      <th></th>\n",
       "      <th>Name</th>\n",
       "      <th>Department</th>\n",
       "      <th>Education</th>\n",
       "      <th>Gender</th>\n",
       "      <th>Title</th>\n",
       "      <th>Years</th>\n",
       "      <th>Salary</th>\n",
       "    </tr>\n",
       "  </thead>\n",
       "  <tbody>\n",
       "    <tr>\n",
       "      <th>0</th>\n",
       "      <td>Jose</td>\n",
       "      <td>IT</td>\n",
       "      <td>Bachelor</td>\n",
       "      <td>M</td>\n",
       "      <td>analyst</td>\n",
       "      <td>1</td>\n",
       "      <td>35</td>\n",
       "    </tr>\n",
       "    <tr>\n",
       "      <th>1</th>\n",
       "      <td>Maria</td>\n",
       "      <td>IT</td>\n",
       "      <td>Master</td>\n",
       "      <td>F</td>\n",
       "      <td>analyst</td>\n",
       "      <td>2</td>\n",
       "      <td>30</td>\n",
       "    </tr>\n",
       "    <tr>\n",
       "      <th>2</th>\n",
       "      <td>David</td>\n",
       "      <td>HR</td>\n",
       "      <td>Master</td>\n",
       "      <td>M</td>\n",
       "      <td>analyst</td>\n",
       "      <td>2</td>\n",
       "      <td>30</td>\n",
       "    </tr>\n",
       "  </tbody>\n",
       "</table>\n",
       "</div>"
      ],
      "text/plain": [
       "    Name Department Education Gender    Title  Years  Salary\n",
       "0   Jose         IT  Bachelor      M  analyst      1      35\n",
       "1  Maria         IT    Master      F  analyst      2      30\n",
       "2  David         HR    Master      M  analyst      2      30"
      ]
     },
     "execution_count": 90,
     "metadata": {},
     "output_type": "execute_result"
    }
   ],
   "source": [
    "df2[:3]\n"
   ]
  },
  {
   "cell_type": "markdown",
   "metadata": {},
   "source": [
    "#### Find the employees who's title is associate and the salary above 55?"
   ]
  },
  {
   "cell_type": "code",
   "execution_count": 91,
   "metadata": {},
   "outputs": [
    {
     "data": {
      "text/html": [
       "<div>\n",
       "<style scoped>\n",
       "    .dataframe tbody tr th:only-of-type {\n",
       "        vertical-align: middle;\n",
       "    }\n",
       "\n",
       "    .dataframe tbody tr th {\n",
       "        vertical-align: top;\n",
       "    }\n",
       "\n",
       "    .dataframe thead th {\n",
       "        text-align: right;\n",
       "    }\n",
       "</style>\n",
       "<table border=\"1\" class=\"dataframe\">\n",
       "  <thead>\n",
       "    <tr style=\"text-align: right;\">\n",
       "      <th></th>\n",
       "      <th>Name</th>\n",
       "      <th>Department</th>\n",
       "      <th>Education</th>\n",
       "      <th>Gender</th>\n",
       "      <th>Title</th>\n",
       "      <th>Years</th>\n",
       "      <th>Salary</th>\n",
       "    </tr>\n",
       "  </thead>\n",
       "  <tbody>\n",
       "    <tr>\n",
       "      <th>7</th>\n",
       "      <td>Pedro</td>\n",
       "      <td>IT</td>\n",
       "      <td>Phd</td>\n",
       "      <td>M</td>\n",
       "      <td>associate</td>\n",
       "      <td>7</td>\n",
       "      <td>60</td>\n",
       "    </tr>\n",
       "  </tbody>\n",
       "</table>\n",
       "</div>"
      ],
      "text/plain": [
       "    Name Department Education Gender      Title  Years  Salary\n",
       "7  Pedro         IT       Phd      M  associate      7      60"
      ]
     },
     "execution_count": 91,
     "metadata": {},
     "output_type": "execute_result"
    }
   ],
   "source": [
    "empleados_filtrados = df2.loc[(df2[\"Title\"] == \"associate\") & (df2[\"Salary\"] > 55)]\n",
    "empleados_filtrados\n"
   ]
  },
  {
   "cell_type": "markdown",
   "metadata": {},
   "source": [
    "#### Group the employees based on their number of years of employment. What are the average salaries in each group?"
   ]
  },
  {
   "cell_type": "code",
   "execution_count": 94,
   "metadata": {},
   "outputs": [
    {
     "name": "stdout",
     "output_type": "stream",
     "text": [
      "Years\n",
      "1    35.000000\n",
      "2    38.333333\n",
      "3    55.000000\n",
      "4    35.000000\n",
      "7    60.000000\n",
      "8    70.000000\n",
      "Name: Salary, dtype: float64\n"
     ]
    }
   ],
   "source": [
    "# agrupamos los empleados según su experiencia\n",
    "grupos_años = df2.groupby('Years')\n",
    "\n",
    "# aplicamos una función de agregación, en este caso la media, para obtener estadísticas sobre cada grupo\n",
    "estadisticas = grupos_años['Salary'].agg('mean')\n",
    "estadisticas"
   ]
  },
  {
   "cell_type": "markdown",
   "metadata": {},
   "source": [
    "####  What is the average Salary per title?"
   ]
  },
  {
   "cell_type": "code",
   "execution_count": 96,
   "metadata": {},
   "outputs": [
    {
     "data": {
      "text/plain": [
       "Title\n",
       "VP           70.000000\n",
       "analyst      32.500000\n",
       "associate    56.666667\n",
       "Name: Salary, dtype: float64"
      ]
     },
     "execution_count": 96,
     "metadata": {},
     "output_type": "execute_result"
    }
   ],
   "source": [
    "# Agrupamos los datos por 'Title' y calculamos la media de los salarios\n",
    "media_salario = df2.groupby('Title')['Salary'].mean()\n",
    "media_salario"
   ]
  },
  {
   "cell_type": "markdown",
   "metadata": {},
   "source": [
    "#### Show a visual summary of the data using boxplot. What Are the First and Third Quartiles? Comment your results.\n",
    "##### * Hint : Quantiles vs Quartiles*\n",
    "##### - `In Probability and Statistics, quantiles are cut points dividing the range of a probability distribution into continuous intervals with equal probabilities. When division is into four parts the values of the variate corresponding to 25%, 50% and 75% of the total distribution are called quartiles.`"
   ]
  },
  {
   "cell_type": "code",
   "execution_count": 104,
   "metadata": {},
   "outputs": [
    {
     "data": {
      "image/png": "[encoded data removed]",
      "text/plain": [
       "<Figure size 640x480 with 1 Axes>"
      ]
     },
     "metadata": {},
     "output_type": "display_data"
    }
   ],
   "source": [
    "df2.boxplot(column=['Years', 'Salary'])\n",
    "plt.xlabel(\"Years and Salary\")\n",
    "plt.ylabel(\"Values\")\n",
    "plt.show()"
   ]
  },
  {
   "cell_type": "code",
   "execution_count": 105,
   "metadata": {},
   "outputs": [
    {
     "ename": "TypeError",
     "evalue": "'<' not supported between instances of 'int' and 'str'",
     "output_type": "error",
     "traceback": [
      "\u001b[0;31m---------------------------------------------------------------------------\u001b[0m",
      "\u001b[0;31mTypeError\u001b[0m                                 Traceback (most recent call last)",
      "Cell \u001b[0;32mIn[105], line 3\u001b[0m\n\u001b[1;32m      1\u001b[0m \u001b[39m# print first quartile here\u001b[39;00m\n\u001b[0;32m----> 3\u001b[0m q1 \u001b[39m=\u001b[39m np\u001b[39m.\u001b[39;49mpercentile(df2, \u001b[39m25\u001b[39;49m)\n",
      "File \u001b[0;32m<__array_function__ internals>:200\u001b[0m, in \u001b[0;36mpercentile\u001b[0;34m(*args, **kwargs)\u001b[0m\n",
      "File \u001b[0;32m~/opt/anaconda3/envs/ironhack/lib/python3.9/site-packages/numpy/lib/function_base.py:4205\u001b[0m, in \u001b[0;36mpercentile\u001b[0;34m(a, q, axis, out, overwrite_input, method, keepdims, interpolation)\u001b[0m\n\u001b[1;32m   4203\u001b[0m \u001b[39mif\u001b[39;00m \u001b[39mnot\u001b[39;00m _quantile_is_valid(q):\n\u001b[1;32m   4204\u001b[0m     \u001b[39mraise\u001b[39;00m \u001b[39mValueError\u001b[39;00m(\u001b[39m\"\u001b[39m\u001b[39mPercentiles must be in the range [0, 100]\u001b[39m\u001b[39m\"\u001b[39m)\n\u001b[0;32m-> 4205\u001b[0m \u001b[39mreturn\u001b[39;00m _quantile_unchecked(\n\u001b[1;32m   4206\u001b[0m     a, q, axis, out, overwrite_input, method, keepdims)\n",
      "File \u001b[0;32m~/opt/anaconda3/envs/ironhack/lib/python3.9/site-packages/numpy/lib/function_base.py:4473\u001b[0m, in \u001b[0;36m_quantile_unchecked\u001b[0;34m(a, q, axis, out, overwrite_input, method, keepdims)\u001b[0m\n\u001b[1;32m   4465\u001b[0m \u001b[39mdef\u001b[39;00m \u001b[39m_quantile_unchecked\u001b[39m(a,\n\u001b[1;32m   4466\u001b[0m                         q,\n\u001b[1;32m   4467\u001b[0m                         axis\u001b[39m=\u001b[39m\u001b[39mNone\u001b[39;00m,\n\u001b[0;32m   (...)\u001b[0m\n\u001b[1;32m   4470\u001b[0m                         method\u001b[39m=\u001b[39m\u001b[39m\"\u001b[39m\u001b[39mlinear\u001b[39m\u001b[39m\"\u001b[39m,\n\u001b[1;32m   4471\u001b[0m                         keepdims\u001b[39m=\u001b[39m\u001b[39mFalse\u001b[39;00m):\n\u001b[1;32m   4472\u001b[0m     \u001b[39m\"\"\"Assumes that q is in [0, 1], and is an ndarray\"\"\"\u001b[39;00m\n\u001b[0;32m-> 4473\u001b[0m     \u001b[39mreturn\u001b[39;00m _ureduce(a,\n\u001b[1;32m   4474\u001b[0m                     func\u001b[39m=\u001b[39;49m_quantile_ureduce_func,\n\u001b[1;32m   4475\u001b[0m                     q\u001b[39m=\u001b[39;49mq,\n\u001b[1;32m   4476\u001b[0m                     keepdims\u001b[39m=\u001b[39;49mkeepdims,\n\u001b[1;32m   4477\u001b[0m                     axis\u001b[39m=\u001b[39;49maxis,\n\u001b[1;32m   4478\u001b[0m                     out\u001b[39m=\u001b[39;49mout,\n\u001b[1;32m   4479\u001b[0m                     overwrite_input\u001b[39m=\u001b[39;49moverwrite_input,\n\u001b[1;32m   4480\u001b[0m                     method\u001b[39m=\u001b[39;49mmethod)\n",
      "File \u001b[0;32m~/opt/anaconda3/envs/ironhack/lib/python3.9/site-packages/numpy/lib/function_base.py:3752\u001b[0m, in \u001b[0;36m_ureduce\u001b[0;34m(a, func, keepdims, **kwargs)\u001b[0m\n\u001b[1;32m   3749\u001b[0m             index_out \u001b[39m=\u001b[39m (\u001b[39m0\u001b[39m, ) \u001b[39m*\u001b[39m nd\n\u001b[1;32m   3750\u001b[0m             kwargs[\u001b[39m'\u001b[39m\u001b[39mout\u001b[39m\u001b[39m'\u001b[39m] \u001b[39m=\u001b[39m out[(\u001b[39mEllipsis\u001b[39m, ) \u001b[39m+\u001b[39m index_out]\n\u001b[0;32m-> 3752\u001b[0m r \u001b[39m=\u001b[39m func(a, \u001b[39m*\u001b[39;49m\u001b[39m*\u001b[39;49mkwargs)\n\u001b[1;32m   3754\u001b[0m \u001b[39mif\u001b[39;00m out \u001b[39mis\u001b[39;00m \u001b[39mnot\u001b[39;00m \u001b[39mNone\u001b[39;00m:\n\u001b[1;32m   3755\u001b[0m     \u001b[39mreturn\u001b[39;00m out\n",
      "File \u001b[0;32m~/opt/anaconda3/envs/ironhack/lib/python3.9/site-packages/numpy/lib/function_base.py:4639\u001b[0m, in \u001b[0;36m_quantile_ureduce_func\u001b[0;34m(a, q, axis, out, overwrite_input, method)\u001b[0m\n\u001b[1;32m   4637\u001b[0m     \u001b[39melse\u001b[39;00m:\n\u001b[1;32m   4638\u001b[0m         arr \u001b[39m=\u001b[39m a\u001b[39m.\u001b[39mcopy()\n\u001b[0;32m-> 4639\u001b[0m result \u001b[39m=\u001b[39m _quantile(arr,\n\u001b[1;32m   4640\u001b[0m                    quantiles\u001b[39m=\u001b[39;49mq,\n\u001b[1;32m   4641\u001b[0m                    axis\u001b[39m=\u001b[39;49maxis,\n\u001b[1;32m   4642\u001b[0m                    method\u001b[39m=\u001b[39;49mmethod,\n\u001b[1;32m   4643\u001b[0m                    out\u001b[39m=\u001b[39;49mout)\n\u001b[1;32m   4644\u001b[0m \u001b[39mreturn\u001b[39;00m result\n",
      "File \u001b[0;32m~/opt/anaconda3/envs/ironhack/lib/python3.9/site-packages/numpy/lib/function_base.py:4737\u001b[0m, in \u001b[0;36m_quantile\u001b[0;34m(arr, quantiles, axis, method, out)\u001b[0m\n\u001b[1;32m   4733\u001b[0m previous_indexes, next_indexes \u001b[39m=\u001b[39m _get_indexes(arr,\n\u001b[1;32m   4734\u001b[0m                                               virtual_indexes,\n\u001b[1;32m   4735\u001b[0m                                               values_count)\n\u001b[1;32m   4736\u001b[0m \u001b[39m# --- Sorting\u001b[39;00m\n\u001b[0;32m-> 4737\u001b[0m arr\u001b[39m.\u001b[39;49mpartition(\n\u001b[1;32m   4738\u001b[0m     np\u001b[39m.\u001b[39;49munique(np\u001b[39m.\u001b[39;49mconcatenate(([\u001b[39m0\u001b[39;49m, \u001b[39m-\u001b[39;49m\u001b[39m1\u001b[39;49m],\n\u001b[1;32m   4739\u001b[0m                               previous_indexes\u001b[39m.\u001b[39;49mravel(),\n\u001b[1;32m   4740\u001b[0m                               next_indexes\u001b[39m.\u001b[39;49mravel(),\n\u001b[1;32m   4741\u001b[0m                               ))),\n\u001b[1;32m   4742\u001b[0m     axis\u001b[39m=\u001b[39;49mDATA_AXIS)\n\u001b[1;32m   4743\u001b[0m \u001b[39mif\u001b[39;00m np\u001b[39m.\u001b[39missubdtype(arr\u001b[39m.\u001b[39mdtype, np\u001b[39m.\u001b[39minexact):\n\u001b[1;32m   4744\u001b[0m     slices_having_nans \u001b[39m=\u001b[39m np\u001b[39m.\u001b[39misnan(\n\u001b[1;32m   4745\u001b[0m         take(arr, indices\u001b[39m=\u001b[39m\u001b[39m-\u001b[39m\u001b[39m1\u001b[39m, axis\u001b[39m=\u001b[39mDATA_AXIS)\n\u001b[1;32m   4746\u001b[0m     )\n",
      "\u001b[0;31mTypeError\u001b[0m: '<' not supported between instances of 'int' and 'str'"
     ]
    }
   ],
   "source": [
    "q1 = np.percentile(df2, 25)"
   ]
  },
  {
   "cell_type": "code",
   "execution_count": 28,
   "metadata": {},
   "outputs": [],
   "source": [
    "# print third quartile here"
   ]
  },
  {
   "cell_type": "markdown",
   "metadata": {},
   "source": [
    "#### Is the mean salary per gender different?"
   ]
  },
  {
   "cell_type": "code",
   "execution_count": 111,
   "metadata": {},
   "outputs": [
    {
     "name": "stdout",
     "output_type": "stream",
     "text": [
      "47.5\n",
      "50.0\n"
     ]
    }
   ],
   "source": [
    "datos_mujeres = df2.loc[df2['Gender'] == 'F']\n",
    "media_salario_mujeres = datos_mujeres['Salary'].mean()\n",
    "print(media_salario_mujeres)\n",
    "\n",
    "datos_hombres = df2.loc[df2['Gender'] == 'M']\n",
    "media_salario_hombres = datos_hombres['Salary'].mean()\n",
    "print(media_salario_hombres)"
   ]
  },
  {
   "cell_type": "markdown",
   "metadata": {},
   "source": [
    "#### Find the minimum, mean and the maximum of all numeric columns for each Department.\n",
    "\n",
    "##### Hint: Use functions from Data Manipulation lesson"
   ]
  },
  {
   "cell_type": "code",
   "execution_count": 116,
   "metadata": {},
   "outputs": [
    {
     "name": "stdout",
     "output_type": "stream",
     "text": [
      "Estadísticas del departamento HR:\n",
      "  Máximo: Years      8\n",
      "Salary    70\n",
      "dtype: int64\n",
      "  Mínimo: Years      2\n",
      "Salary    30\n",
      "dtype: int64\n",
      "  Media: Years      4.666667\n",
      "Salary    45.000000\n",
      "dtype: float64\n",
      "Estadísticas del departamento IT:\n",
      "  Máximo: Years      8\n",
      "Salary    70\n",
      "dtype: int64\n",
      "  Mínimo: Years      1\n",
      "Salary    30\n",
      "dtype: int64\n",
      "  Media: Years      4.50\n",
      "Salary    48.75\n",
      "dtype: float64\n",
      "Estadísticas del departamento Sales:\n",
      "  Máximo: Years      3\n",
      "Salary    55\n",
      "dtype: int64\n",
      "  Mínimo: Years      2\n",
      "Salary    55\n",
      "dtype: int64\n",
      "  Media: Years      2.5\n",
      "Salary    55.0\n",
      "dtype: float64\n"
     ]
    }
   ],
   "source": [
    "# este lo he hecho con el chat porque no lo entiendo\n",
    "\n",
    "grupos_departamentos = df2.groupby('Department')\n",
    "for nombre_depto, grupo_depto in grupos_departamentos:\n",
    "    print(f\"Estadísticas del departamento {nombre_depto}:\")\n",
    "    numeros = grupo_depto.select_dtypes(include=[float, int])\n",
    "    print(f\"  Máximo: {numeros.max()}\")\n",
    "    print(f\"  Mínimo: {numeros.min()}\")\n",
    "    print(f\"  Media: {numeros.mean()}\")"
   ]
  },
  {
   "cell_type": "markdown",
   "metadata": {},
   "source": [
    "### Bonus Question\n",
    "\n",
    "#### For each department, compute the difference between the maximal salary and the minimal salary.\n",
    "\n",
    "##### * Hint: try using `agg` or `apply` and `lambda`*"
   ]
  },
  {
   "cell_type": "code",
   "execution_count": 32,
   "metadata": {},
   "outputs": [],
   "source": [
    "# your answer here"
   ]
  },
  {
   "cell_type": "markdown",
   "metadata": {
    "collapsed": true
   },
   "source": [
    "# Challenge 3"
   ]
  },
  {
   "cell_type": "markdown",
   "metadata": {},
   "source": [
    "#### Open the Orders.csv dataset. Name your dataset orders"
   ]
  },
  {
   "cell_type": "code",
   "execution_count": 119,
   "metadata": {
    "collapsed": true
   },
   "outputs": [
    {
     "data": {
      "text/html": [
       "<div>\n",
       "<style scoped>\n",
       "    .dataframe tbody tr th:only-of-type {\n",
       "        vertical-align: middle;\n",
       "    }\n",
       "\n",
       "    .dataframe tbody tr th {\n",
       "        vertical-align: top;\n",
       "    }\n",
       "\n",
       "    .dataframe thead th {\n",
       "        text-align: right;\n",
       "    }\n",
       "</style>\n",
       "<table border=\"1\" class=\"dataframe\">\n",
       "  <thead>\n",
       "    <tr style=\"text-align: right;\">\n",
       "      <th></th>\n",
       "      <th>Unnamed: 0</th>\n",
       "      <th>InvoiceNo</th>\n",
       "      <th>StockCode</th>\n",
       "      <th>year</th>\n",
       "      <th>month</th>\n",
       "      <th>day</th>\n",
       "      <th>hour</th>\n",
       "      <th>Description</th>\n",
       "      <th>Quantity</th>\n",
       "      <th>InvoiceDate</th>\n",
       "      <th>UnitPrice</th>\n",
       "      <th>CustomerID</th>\n",
       "      <th>Country</th>\n",
       "      <th>amount_spent</th>\n",
       "    </tr>\n",
       "  </thead>\n",
       "  <tbody>\n",
       "    <tr>\n",
       "      <th>0</th>\n",
       "      <td>0</td>\n",
       "      <td>536365</td>\n",
       "      <td>85123A</td>\n",
       "      <td>2010</td>\n",
       "      <td>12</td>\n",
       "      <td>3</td>\n",
       "      <td>8</td>\n",
       "      <td>white hanging heart t-light holder</td>\n",
       "      <td>6</td>\n",
       "      <td>2010-12-01 08:26:00</td>\n",
       "      <td>2.55</td>\n",
       "      <td>17850</td>\n",
       "      <td>United Kingdom</td>\n",
       "      <td>15.30</td>\n",
       "    </tr>\n",
       "    <tr>\n",
       "      <th>1</th>\n",
       "      <td>1</td>\n",
       "      <td>536365</td>\n",
       "      <td>71053</td>\n",
       "      <td>2010</td>\n",
       "      <td>12</td>\n",
       "      <td>3</td>\n",
       "      <td>8</td>\n",
       "      <td>white metal lantern</td>\n",
       "      <td>6</td>\n",
       "      <td>2010-12-01 08:26:00</td>\n",
       "      <td>3.39</td>\n",
       "      <td>17850</td>\n",
       "      <td>United Kingdom</td>\n",
       "      <td>20.34</td>\n",
       "    </tr>\n",
       "    <tr>\n",
       "      <th>2</th>\n",
       "      <td>2</td>\n",
       "      <td>536365</td>\n",
       "      <td>84406B</td>\n",
       "      <td>2010</td>\n",
       "      <td>12</td>\n",
       "      <td>3</td>\n",
       "      <td>8</td>\n",
       "      <td>cream cupid hearts coat hanger</td>\n",
       "      <td>8</td>\n",
       "      <td>2010-12-01 08:26:00</td>\n",
       "      <td>2.75</td>\n",
       "      <td>17850</td>\n",
       "      <td>United Kingdom</td>\n",
       "      <td>22.00</td>\n",
       "    </tr>\n",
       "    <tr>\n",
       "      <th>3</th>\n",
       "      <td>3</td>\n",
       "      <td>536365</td>\n",
       "      <td>84029G</td>\n",
       "      <td>2010</td>\n",
       "      <td>12</td>\n",
       "      <td>3</td>\n",
       "      <td>8</td>\n",
       "      <td>knitted union flag hot water bottle</td>\n",
       "      <td>6</td>\n",
       "      <td>2010-12-01 08:26:00</td>\n",
       "      <td>3.39</td>\n",
       "      <td>17850</td>\n",
       "      <td>United Kingdom</td>\n",
       "      <td>20.34</td>\n",
       "    </tr>\n",
       "    <tr>\n",
       "      <th>4</th>\n",
       "      <td>4</td>\n",
       "      <td>536365</td>\n",
       "      <td>84029E</td>\n",
       "      <td>2010</td>\n",
       "      <td>12</td>\n",
       "      <td>3</td>\n",
       "      <td>8</td>\n",
       "      <td>red woolly hottie white heart.</td>\n",
       "      <td>6</td>\n",
       "      <td>2010-12-01 08:26:00</td>\n",
       "      <td>3.39</td>\n",
       "      <td>17850</td>\n",
       "      <td>United Kingdom</td>\n",
       "      <td>20.34</td>\n",
       "    </tr>\n",
       "  </tbody>\n",
       "</table>\n",
       "</div>"
      ],
      "text/plain": [
       "   Unnamed: 0  InvoiceNo StockCode  year  month  day  hour   \n",
       "0           0     536365    85123A  2010     12    3     8  \\\n",
       "1           1     536365     71053  2010     12    3     8   \n",
       "2           2     536365    84406B  2010     12    3     8   \n",
       "3           3     536365    84029G  2010     12    3     8   \n",
       "4           4     536365    84029E  2010     12    3     8   \n",
       "\n",
       "                           Description  Quantity          InvoiceDate   \n",
       "0   white hanging heart t-light holder         6  2010-12-01 08:26:00  \\\n",
       "1                  white metal lantern         6  2010-12-01 08:26:00   \n",
       "2       cream cupid hearts coat hanger         8  2010-12-01 08:26:00   \n",
       "3  knitted union flag hot water bottle         6  2010-12-01 08:26:00   \n",
       "4       red woolly hottie white heart.         6  2010-12-01 08:26:00   \n",
       "\n",
       "   UnitPrice  CustomerID         Country  amount_spent  \n",
       "0       2.55       17850  United Kingdom         15.30  \n",
       "1       3.39       17850  United Kingdom         20.34  \n",
       "2       2.75       17850  United Kingdom         22.00  \n",
       "3       3.39       17850  United Kingdom         20.34  \n",
       "4       3.39       17850  United Kingdom         20.34  "
      ]
     },
     "execution_count": 119,
     "metadata": {},
     "output_type": "execute_result"
    }
   ],
   "source": [
    "df=pd.read_csv('Orders.csv')\n",
    "df.head()"
   ]
  },
  {
   "cell_type": "markdown",
   "metadata": {},
   "source": [
    "#### Explore your dataset by looking at the data types and the summary statistics. Comment your results"
   ]
  },
  {
   "cell_type": "code",
   "execution_count": 120,
   "metadata": {
    "collapsed": true
   },
   "outputs": [
    {
     "data": {
      "text/plain": [
       "<bound method DataFrame.info of         Unnamed: 0  InvoiceNo StockCode  year  month  day  hour   \n",
       "0                0     536365    85123A  2010     12    3     8  \\\n",
       "1                1     536365     71053  2010     12    3     8   \n",
       "2                2     536365    84406B  2010     12    3     8   \n",
       "3                3     536365    84029G  2010     12    3     8   \n",
       "4                4     536365    84029E  2010     12    3     8   \n",
       "...            ...        ...       ...   ...    ...  ...   ...   \n",
       "397919      541904     581587     22613  2011     12    5    12   \n",
       "397920      541905     581587     22899  2011     12    5    12   \n",
       "397921      541906     581587     23254  2011     12    5    12   \n",
       "397922      541907     581587     23255  2011     12    5    12   \n",
       "397923      541908     581587     22138  2011     12    5    12   \n",
       "\n",
       "                                Description  Quantity          InvoiceDate   \n",
       "0        white hanging heart t-light holder         6  2010-12-01 08:26:00  \\\n",
       "1                       white metal lantern         6  2010-12-01 08:26:00   \n",
       "2            cream cupid hearts coat hanger         8  2010-12-01 08:26:00   \n",
       "3       knitted union flag hot water bottle         6  2010-12-01 08:26:00   \n",
       "4            red woolly hottie white heart.         6  2010-12-01 08:26:00   \n",
       "...                                     ...       ...                  ...   \n",
       "397919          pack of 20 spaceboy napkins        12  2011-12-09 12:50:00   \n",
       "397920         children's apron dolly girl          6  2011-12-09 12:50:00   \n",
       "397921        childrens cutlery dolly girl          4  2011-12-09 12:50:00   \n",
       "397922      childrens cutlery circus parade         4  2011-12-09 12:50:00   \n",
       "397923        baking set 9 piece retrospot          3  2011-12-09 12:50:00   \n",
       "\n",
       "        UnitPrice  CustomerID         Country  amount_spent  \n",
       "0            2.55       17850  United Kingdom         15.30  \n",
       "1            3.39       17850  United Kingdom         20.34  \n",
       "2            2.75       17850  United Kingdom         22.00  \n",
       "3            3.39       17850  United Kingdom         20.34  \n",
       "4            3.39       17850  United Kingdom         20.34  \n",
       "...           ...         ...             ...           ...  \n",
       "397919       0.85       12680          France         10.20  \n",
       "397920       2.10       12680          France         12.60  \n",
       "397921       4.15       12680          France         16.60  \n",
       "397922       4.15       12680          France         16.60  \n",
       "397923       4.95       12680          France         14.85  \n",
       "\n",
       "[397924 rows x 14 columns]>"
      ]
     },
     "execution_count": 120,
     "metadata": {},
     "output_type": "execute_result"
    }
   ],
   "source": [
    "df.info"
   ]
  },
  {
   "cell_type": "code",
   "execution_count": 121,
   "metadata": {
    "collapsed": true
   },
   "outputs": [
    {
     "data": {
      "text/plain": [
       "(397924, 14)"
      ]
     },
     "execution_count": 121,
     "metadata": {},
     "output_type": "execute_result"
    }
   ],
   "source": [
    "df.shape"
   ]
  },
  {
   "cell_type": "markdown",
   "metadata": {},
   "source": [
    "####  What is the average Purchase Price?"
   ]
  },
  {
   "cell_type": "code",
   "execution_count": 123,
   "metadata": {
    "collapsed": true
   },
   "outputs": [
    {
     "data": {
      "text/plain": [
       "3.1161744805540756"
      ]
     },
     "execution_count": 123,
     "metadata": {},
     "output_type": "execute_result"
    }
   ],
   "source": [
    "media_unit_price = df[\"UnitPrice\"].mean()\n",
    "media_unit_price"
   ]
  },
  {
   "cell_type": "markdown",
   "metadata": {},
   "source": [
    "#### What were the highest and lowest purchase prices? "
   ]
  },
  {
   "cell_type": "code",
   "execution_count": 125,
   "metadata": {
    "collapsed": true
   },
   "outputs": [
    {
     "data": {
      "text/plain": [
       "8142.75"
      ]
     },
     "execution_count": 125,
     "metadata": {},
     "output_type": "execute_result"
    }
   ],
   "source": [
    "max_unit_price = df[\"UnitPrice\"].max()\n",
    "max_unit_price"
   ]
  },
  {
   "cell_type": "code",
   "execution_count": 126,
   "metadata": {
    "collapsed": true
   },
   "outputs": [
    {
     "data": {
      "text/plain": [
       "0.0"
      ]
     },
     "execution_count": 126,
     "metadata": {},
     "output_type": "execute_result"
    }
   ],
   "source": [
    "min_unit_price = df[\"UnitPrice\"].min()\n",
    "min_unit_price"
   ]
  },
  {
   "cell_type": "markdown",
   "metadata": {},
   "source": [
    "#### Select all the customers we have in Spain"
   ]
  },
  {
   "cell_type": "code",
   "execution_count": 128,
   "metadata": {
    "collapsed": true
   },
   "outputs": [
    {
     "data": {
      "text/plain": [
       "4250      12557\n",
       "4251      12557\n",
       "4252      12557\n",
       "4253      12557\n",
       "4254      12557\n",
       "          ...  \n",
       "394733    17097\n",
       "394734    17097\n",
       "394735    17097\n",
       "394736    17097\n",
       "394737    17097\n",
       "Name: CustomerID, Length: 2485, dtype: int64"
      ]
     },
     "execution_count": 128,
     "metadata": {},
     "output_type": "execute_result"
    }
   ],
   "source": [
    "clientes_espana = df.loc[df[\"Country\"] == \"Spain\", \"CustomerID\"]\n",
    "clientes_espana"
   ]
  },
  {
   "cell_type": "markdown",
   "metadata": {},
   "source": [
    "#### How many customers do we have in Spain?\n",
    "##### Hint : Use value_counts()"
   ]
  },
  {
   "cell_type": "code",
   "execution_count": 129,
   "metadata": {
    "collapsed": true
   },
   "outputs": [
    {
     "data": {
      "text/plain": [
       "2485"
      ]
     },
     "execution_count": 129,
     "metadata": {},
     "output_type": "execute_result"
    }
   ],
   "source": [
    "len(clientes_espana)"
   ]
  },
  {
   "cell_type": "markdown",
   "metadata": {},
   "source": [
    "#### Select all the customers who have bought more than 50 items ?"
   ]
  },
  {
   "cell_type": "code",
   "execution_count": 134,
   "metadata": {
    "collapsed": true
   },
   "outputs": [
    {
     "data": {
      "text/plain": [
       "[13748,\n",
       " 15291,\n",
       " 14688,\n",
       " 14688,\n",
       " 16029,\n",
       " 16029,\n",
       " 16029,\n",
       " 16029,\n",
       " 16029,\n",
       " 16029,\n",
       " 16029,\n",
       " 17511,\n",
       " 17511,\n",
       " 17511,\n",
       " 17511,\n",
       " 17511,\n",
       " 17511,\n",
       " 17511,\n",
       " 17511,\n",
       " 17511,\n",
       " 13408,\n",
       " 13408,\n",
       " 13408,\n",
       " 13408,\n",
       " 12791,\n",
       " 14045,\n",
       " 13255,\n",
       " 13694,\n",
       " 13694,\n",
       " 13694,\n",
       " 16210,\n",
       " 16210,\n",
       " 16210,\n",
       " 16210,\n",
       " 17181,\n",
       " 17181,\n",
       " 15485,\n",
       " 12433,\n",
       " 12433,\n",
       " 12433,\n",
       " 18144,\n",
       " 13093,\n",
       " 17760,\n",
       " 17025,\n",
       " 13777,\n",
       " 13777,\n",
       " 13777,\n",
       " 13777,\n",
       " 13777,\n",
       " 13777,\n",
       " 13777,\n",
       " 13777,\n",
       " 13777,\n",
       " 13777,\n",
       " 13777,\n",
       " 13777,\n",
       " 13777,\n",
       " 13777,\n",
       " 13777,\n",
       " 13777,\n",
       " 13777,\n",
       " 13777,\n",
       " 13777,\n",
       " 13777,\n",
       " 13777,\n",
       " 13777,\n",
       " 13777,\n",
       " 13777,\n",
       " 13576,\n",
       " 17925,\n",
       " 13941,\n",
       " 13941,\n",
       " 13941,\n",
       " 13941,\n",
       " 13941,\n",
       " 14135,\n",
       " 14135,\n",
       " 14135,\n",
       " 14135,\n",
       " 14135,\n",
       " 13108,\n",
       " 18041,\n",
       " 14060,\n",
       " 14060,\n",
       " 14060,\n",
       " 15738,\n",
       " 17381,\n",
       " 17381,\n",
       " 17381,\n",
       " 17381,\n",
       " 17381,\n",
       " 17381,\n",
       " 17685,\n",
       " 15061,\n",
       " 15061,\n",
       " 15061,\n",
       " 15061,\n",
       " 15061,\n",
       " 15061,\n",
       " 15061,\n",
       " 15061,\n",
       " 15061,\n",
       " 15061,\n",
       " 15061,\n",
       " 15061,\n",
       " 15061,\n",
       " 15061,\n",
       " 15061,\n",
       " 15061,\n",
       " 15061,\n",
       " 15061,\n",
       " 15061,\n",
       " 15061,\n",
       " 15061,\n",
       " 15061,\n",
       " 15061,\n",
       " 15061,\n",
       " 15061,\n",
       " 15061,\n",
       " 15061,\n",
       " 15061,\n",
       " 15061,\n",
       " 15061,\n",
       " 15061,\n",
       " 15061,\n",
       " 15061,\n",
       " 15061,\n",
       " 15061,\n",
       " 15061,\n",
       " 14031,\n",
       " 14031,\n",
       " 14775,\n",
       " 15299,\n",
       " 15299,\n",
       " 15299,\n",
       " 13798,\n",
       " 16754,\n",
       " 16754,\n",
       " 16029,\n",
       " 16029,\n",
       " 15093,\n",
       " 15093,\n",
       " 15093,\n",
       " 13408,\n",
       " 13408,\n",
       " 13408,\n",
       " 12967,\n",
       " 12967,\n",
       " 14156,\n",
       " 14156,\n",
       " 14680,\n",
       " 14680,\n",
       " 14680,\n",
       " 12557,\n",
       " 12557,\n",
       " 12557,\n",
       " 12557,\n",
       " 12557,\n",
       " 17809,\n",
       " 16013,\n",
       " 16013,\n",
       " 17949,\n",
       " 12395,\n",
       " 12395,\n",
       " 12395,\n",
       " 13081,\n",
       " 13081,\n",
       " 13081,\n",
       " 13081,\n",
       " 15465,\n",
       " 13089,\n",
       " 14800,\n",
       " 16839,\n",
       " 16839,\n",
       " 16168,\n",
       " 13269,\n",
       " 13831,\n",
       " 15716,\n",
       " 15716,\n",
       " 13767,\n",
       " 17402,\n",
       " 15311,\n",
       " 16422,\n",
       " 16422,\n",
       " 16422,\n",
       " 16422,\n",
       " 16422,\n",
       " 16422,\n",
       " 16422,\n",
       " 17677,\n",
       " 17677,\n",
       " 17677,\n",
       " 17381,\n",
       " 17381,\n",
       " 17381,\n",
       " 17381,\n",
       " 17381,\n",
       " 17674,\n",
       " 17674,\n",
       " 13094,\n",
       " 13094,\n",
       " 16210,\n",
       " 16210,\n",
       " 16210,\n",
       " 15039,\n",
       " 14189,\n",
       " 14189,\n",
       " 14708,\n",
       " 18113,\n",
       " 17596,\n",
       " 17596,\n",
       " 14911,\n",
       " 13089,\n",
       " 13089,\n",
       " 17191,\n",
       " 14409,\n",
       " 14409,\n",
       " 12913,\n",
       " 17450,\n",
       " 17450,\n",
       " 17511,\n",
       " 17511,\n",
       " 17511,\n",
       " 17511,\n",
       " 17511,\n",
       " 17616,\n",
       " 15649,\n",
       " 12681,\n",
       " 15838,\n",
       " 15838,\n",
       " 15838,\n",
       " 14733,\n",
       " 14733,\n",
       " 13756,\n",
       " 13756,\n",
       " 17491,\n",
       " 17491,\n",
       " 15061,\n",
       " 15061,\n",
       " 15061,\n",
       " 15061,\n",
       " 15061,\n",
       " 15061,\n",
       " 14739,\n",
       " 14739,\n",
       " 18102,\n",
       " 18102,\n",
       " 18102,\n",
       " 18102,\n",
       " 18102,\n",
       " 18102,\n",
       " 18102,\n",
       " 18102,\n",
       " 18102,\n",
       " 18102,\n",
       " 18102,\n",
       " 16365,\n",
       " 17870,\n",
       " 12386,\n",
       " 13199,\n",
       " 16525,\n",
       " 15973,\n",
       " 17677,\n",
       " 17677,\n",
       " 17677,\n",
       " 17677,\n",
       " 14060,\n",
       " 15032,\n",
       " 15032,\n",
       " 15032,\n",
       " 15032,\n",
       " 15032,\n",
       " 15032,\n",
       " 15032,\n",
       " 15032,\n",
       " 15032,\n",
       " 15032,\n",
       " 15032,\n",
       " 15032,\n",
       " 18061,\n",
       " 15311,\n",
       " 15298,\n",
       " 13270,\n",
       " 14866,\n",
       " 13077,\n",
       " 13848,\n",
       " 15347,\n",
       " 13777,\n",
       " 13777,\n",
       " 13758,\n",
       " 13758,\n",
       " 13758,\n",
       " 17340,\n",
       " 17340,\n",
       " 17340,\n",
       " 17340,\n",
       " 17340,\n",
       " 17655,\n",
       " 17655,\n",
       " 12433,\n",
       " 12433,\n",
       " 15513,\n",
       " 18092,\n",
       " 18092,\n",
       " 18092,\n",
       " 12755,\n",
       " 17857,\n",
       " 17857,\n",
       " 17857,\n",
       " 17857,\n",
       " 12429,\n",
       " 13090,\n",
       " 15856,\n",
       " 15856,\n",
       " 18102,\n",
       " 17978,\n",
       " 15311,\n",
       " 15380,\n",
       " 17017,\n",
       " 14031,\n",
       " 14031,\n",
       " 12471,\n",
       " 12471,\n",
       " 12471,\n",
       " 12471,\n",
       " 17675,\n",
       " 15061,\n",
       " 15061,\n",
       " 15061,\n",
       " 15061,\n",
       " 15061,\n",
       " 15061,\n",
       " 15061,\n",
       " 15061,\n",
       " 15061,\n",
       " 15061,\n",
       " 12731,\n",
       " 16656,\n",
       " 16656,\n",
       " 16656,\n",
       " 12748,\n",
       " 14952,\n",
       " 14952,\n",
       " 14952,\n",
       " 12748,\n",
       " 12748,\n",
       " 12748,\n",
       " 12748,\n",
       " 15514,\n",
       " 13798,\n",
       " 13798,\n",
       " 13798,\n",
       " 13798,\n",
       " 13798,\n",
       " 13798,\n",
       " 13798,\n",
       " 13798,\n",
       " 13798,\n",
       " 13798,\n",
       " 13798,\n",
       " 13798,\n",
       " 13798,\n",
       " 13798,\n",
       " 13798,\n",
       " 13798,\n",
       " 13798,\n",
       " 13798,\n",
       " 13798,\n",
       " 16873,\n",
       " 14062,\n",
       " 14062,\n",
       " 14800,\n",
       " 12753,\n",
       " 12753,\n",
       " 12753,\n",
       " 12753,\n",
       " 12753,\n",
       " 12753,\n",
       " 12753,\n",
       " 12753,\n",
       " 12753,\n",
       " 12753,\n",
       " 12753,\n",
       " 12753,\n",
       " 12753,\n",
       " 12753,\n",
       " 12753,\n",
       " 12753,\n",
       " 12753,\n",
       " 12753,\n",
       " 12875,\n",
       " 16779,\n",
       " 17937,\n",
       " 17937,\n",
       " 16210,\n",
       " 16210,\n",
       " 16210,\n",
       " 13225,\n",
       " 13225,\n",
       " 13225,\n",
       " 13225,\n",
       " 15361,\n",
       " 14741,\n",
       " 16701,\n",
       " 16927,\n",
       " 14544,\n",
       " 13408,\n",
       " 13408,\n",
       " 13408,\n",
       " 13408,\n",
       " 13408,\n",
       " 15640,\n",
       " 13089,\n",
       " 17969,\n",
       " 17969,\n",
       " 15159,\n",
       " 14733,\n",
       " 14733,\n",
       " 14733,\n",
       " 14525,\n",
       " 13324,\n",
       " 14667,\n",
       " 14961,\n",
       " 14961,\n",
       " 16083,\n",
       " 17194,\n",
       " 14057,\n",
       " 15514,\n",
       " 16191,\n",
       " 12370,\n",
       " 12370,\n",
       " 14298,\n",
       " 14298,\n",
       " 14298,\n",
       " 14298,\n",
       " 14298,\n",
       " 14298,\n",
       " 14298,\n",
       " 14298,\n",
       " 14298,\n",
       " 14298,\n",
       " 14298,\n",
       " 14298,\n",
       " 16191,\n",
       " 18144,\n",
       " 12748,\n",
       " 14680,\n",
       " 14680,\n",
       " 17404,\n",
       " 16805,\n",
       " 14057,\n",
       " 16553,\n",
       " 16553,\n",
       " 16553,\n",
       " 16553,\n",
       " 16553,\n",
       " 16553,\n",
       " 16553,\n",
       " 16553,\n",
       " 17017,\n",
       " 17017,\n",
       " 12829,\n",
       " 12829,\n",
       " 14051,\n",
       " 14401,\n",
       " 14401,\n",
       " 14060,\n",
       " 17230,\n",
       " 17230,\n",
       " 17230,\n",
       " 17230,\n",
       " 17230,\n",
       " 17511,\n",
       " 17511,\n",
       " 17511,\n",
       " 17511,\n",
       " 17511,\n",
       " 17511,\n",
       " 17511,\n",
       " 17511,\n",
       " 17511,\n",
       " 17511,\n",
       " 17511,\n",
       " 17511,\n",
       " 17511,\n",
       " 17511,\n",
       " 17511,\n",
       " 17511,\n",
       " 17511,\n",
       " 17511,\n",
       " 17511,\n",
       " 17511,\n",
       " 17511,\n",
       " 17511,\n",
       " 15061,\n",
       " 15061,\n",
       " 15061,\n",
       " 15061,\n",
       " 15061,\n",
       " 14201,\n",
       " 17858,\n",
       " 17858,\n",
       " 17858,\n",
       " 17858,\n",
       " 17858,\n",
       " 17858,\n",
       " 17858,\n",
       " 17858,\n",
       " 13089,\n",
       " 14913,\n",
       " 14913,\n",
       " 15641,\n",
       " 15641,\n",
       " 13124,\n",
       " 13124,\n",
       " 15456,\n",
       " 17980,\n",
       " 17980,\n",
       " 17752,\n",
       " 13089,\n",
       " 13408,\n",
       " 13093,\n",
       " 13093,\n",
       " 13093,\n",
       " 13093,\n",
       " 13093,\n",
       " 13093,\n",
       " 15482,\n",
       " 15482,\n",
       " 13089,\n",
       " 16029,\n",
       " 16029,\n",
       " 16029,\n",
       " 16029,\n",
       " 16029,\n",
       " 16029,\n",
       " 16029,\n",
       " 16029,\n",
       " 16029,\n",
       " 16029,\n",
       " 16029,\n",
       " 16029,\n",
       " 16029,\n",
       " 16029,\n",
       " 16029,\n",
       " 16029,\n",
       " 16985,\n",
       " 16705,\n",
       " 16705,\n",
       " 16705,\n",
       " 16705,\n",
       " 16705,\n",
       " 16013,\n",
       " 16013,\n",
       " 16746,\n",
       " 16746,\n",
       " 14309,\n",
       " 15194,\n",
       " 15157,\n",
       " 17744,\n",
       " 16210,\n",
       " 13767,\n",
       " 16684,\n",
       " 13694,\n",
       " 13694,\n",
       " 13694,\n",
       " 13694,\n",
       " 13694,\n",
       " 13694,\n",
       " 13694,\n",
       " 13694,\n",
       " 13694,\n",
       " 13694,\n",
       " 13694,\n",
       " 13694,\n",
       " 13694,\n",
       " 13694,\n",
       " 13694,\n",
       " 13694,\n",
       " 13694,\n",
       " 13694,\n",
       " 13694,\n",
       " 13694,\n",
       " 14220,\n",
       " 12348,\n",
       " 12348,\n",
       " 12348,\n",
       " 12348,\n",
       " 12348,\n",
       " 12348,\n",
       " 12348,\n",
       " 12348,\n",
       " 12348,\n",
       " 12348,\n",
       " 14911,\n",
       " 13004,\n",
       " 13854,\n",
       " 16013,\n",
       " 12931,\n",
       " 17404,\n",
       " 17404,\n",
       " 17404,\n",
       " 17404,\n",
       " 17404,\n",
       " 17404,\n",
       " 17404,\n",
       " 17404,\n",
       " 17404,\n",
       " 17404,\n",
       " 17404,\n",
       " 17404,\n",
       " 17404,\n",
       " 17404,\n",
       " 17404,\n",
       " 17404,\n",
       " 12726,\n",
       " 12726,\n",
       " 15204,\n",
       " 14031,\n",
       " 14031,\n",
       " 15856,\n",
       " 16684,\n",
       " 16684,\n",
       " 16684,\n",
       " 16684,\n",
       " 16684,\n",
       " 16684,\n",
       " 16684,\n",
       " 16684,\n",
       " 16684,\n",
       " 16422,\n",
       " 16422,\n",
       " 13104,\n",
       " 14113,\n",
       " 13027,\n",
       " 13027,\n",
       " 13027,\n",
       " 13027,\n",
       " 13027,\n",
       " 13027,\n",
       " 14298,\n",
       " 14298,\n",
       " 14298,\n",
       " 14298,\n",
       " 14298,\n",
       " 14298,\n",
       " 14298,\n",
       " 18097,\n",
       " 17230,\n",
       " 13564,\n",
       " 17340,\n",
       " 17340,\n",
       " 15034,\n",
       " 16029,\n",
       " 16029,\n",
       " 17306,\n",
       " 14911,\n",
       " 14646,\n",
       " 14646,\n",
       " 14646,\n",
       " 14646,\n",
       " 14646,\n",
       " 14646,\n",
       " 14646,\n",
       " 14646,\n",
       " 14646,\n",
       " 14646,\n",
       " 14646,\n",
       " 14646,\n",
       " 14646,\n",
       " 14646,\n",
       " 14646,\n",
       " 14646,\n",
       " 14646,\n",
       " 14646,\n",
       " 14646,\n",
       " 14646,\n",
       " 14646,\n",
       " 14646,\n",
       " 14646,\n",
       " 14646,\n",
       " 14646,\n",
       " 14646,\n",
       " 14646,\n",
       " 14646,\n",
       " 14646,\n",
       " 14646,\n",
       " 14646,\n",
       " 14646,\n",
       " 14646,\n",
       " 14646,\n",
       " 14646,\n",
       " 14646,\n",
       " 14646,\n",
       " 14646,\n",
       " 14646,\n",
       " 14646,\n",
       " 17593,\n",
       " 13953,\n",
       " 14533,\n",
       " 14533,\n",
       " 14533,\n",
       " 14533,\n",
       " 12383,\n",
       " 18092,\n",
       " 13165,\n",
       " 13165,\n",
       " 15856,\n",
       " 18097,\n",
       " 16656,\n",
       " 13094,\n",
       " 16255,\n",
       " 13963,\n",
       " 15039,\n",
       " 17428,\n",
       " 17428,\n",
       " 13680,\n",
       " 17457,\n",
       " 17457,\n",
       " 13253,\n",
       " 13253,\n",
       " 13253,\n",
       " 13253,\n",
       " 15498,\n",
       " 17675,\n",
       " 13694,\n",
       " 13694,\n",
       " 13694,\n",
       " 13694,\n",
       " 13694,\n",
       " 13694,\n",
       " 13694,\n",
       " 13694,\n",
       " 13694,\n",
       " 13694,\n",
       " 13694,\n",
       " 13694,\n",
       " 13694,\n",
       " 13798,\n",
       " 13798,\n",
       " 13798,\n",
       " 13798,\n",
       " 13798,\n",
       " 13798,\n",
       " 13798,\n",
       " 13798,\n",
       " 15311,\n",
       " 15311,\n",
       " 15311,\n",
       " 16112,\n",
       " 15769,\n",
       " 15769,\n",
       " 15769,\n",
       " 16719,\n",
       " 13629,\n",
       " 13629,\n",
       " 13629,\n",
       " 15661,\n",
       " 16532,\n",
       " 17511,\n",
       " 17511,\n",
       " 17511,\n",
       " 17511,\n",
       " 17511,\n",
       " 17511,\n",
       " 17511,\n",
       " 17511,\n",
       " 17511,\n",
       " 17511,\n",
       " 17511,\n",
       " 17511,\n",
       " 17511,\n",
       " 17511,\n",
       " 17511,\n",
       " 17511,\n",
       " 17511,\n",
       " 13199,\n",
       " 14739,\n",
       " 14739,\n",
       " 15093,\n",
       " 15093,\n",
       " 15358,\n",
       " 17585,\n",
       " 13082,\n",
       " 13082,\n",
       " 13082,\n",
       " 15298,\n",
       " 13225,\n",
       " 13225,\n",
       " 14045,\n",
       " 14045,\n",
       " 13089,\n",
       " 13089,\n",
       " 13089,\n",
       " 14045,\n",
       " 17949,\n",
       " 12415,\n",
       " 12415,\n",
       " 12415,\n",
       " 12415,\n",
       " 12415,\n",
       " 12415,\n",
       " 12415,\n",
       " 12415,\n",
       " 12415,\n",
       " 12415,\n",
       " 12415,\n",
       " 12415,\n",
       " 12415,\n",
       " 12415,\n",
       " 12415,\n",
       " 12415,\n",
       " 12415,\n",
       " 12415,\n",
       " 12415,\n",
       " 12415,\n",
       " 12415,\n",
       " 12415,\n",
       " 12415,\n",
       " 12415,\n",
       " 12415,\n",
       " 12415,\n",
       " 12415,\n",
       " 12415,\n",
       " 12415,\n",
       " 12415,\n",
       " 12415,\n",
       " 13458,\n",
       " 17368,\n",
       " 17368,\n",
       " 17368,\n",
       " 17368,\n",
       " 13680,\n",
       " 13680,\n",
       " 13680,\n",
       " 14680,\n",
       " 14680,\n",
       " 14680,\n",
       " 14258,\n",
       " 14258,\n",
       " 14258,\n",
       " 14258,\n",
       " 14258,\n",
       " 14258,\n",
       " 14258,\n",
       " 14258,\n",
       " 14258,\n",
       " 14258,\n",
       " 14258,\n",
       " 14258,\n",
       " 14258,\n",
       " 14258,\n",
       " 12386,\n",
       " 12386,\n",
       " 13093,\n",
       " 13093,\n",
       " 13093,\n",
       " 13093,\n",
       " 13599,\n",
       " 13408,\n",
       " 12971,\n",
       " 13094,\n",
       " 13081,\n",
       " 14031,\n",
       " 14031,\n",
       " 16013,\n",
       " 14828,\n",
       " 14828,\n",
       " 14828,\n",
       " 14828,\n",
       " 13798,\n",
       " 13798,\n",
       " 13798,\n",
       " 16839,\n",
       " 16839,\n",
       " 16839,\n",
       " 16013,\n",
       " 16551,\n",
       " 12829,\n",
       " 12829,\n",
       " 13750,\n",
       " 16191,\n",
       " 12583,\n",
       " 12583,\n",
       " 12501,\n",
       " 16779,\n",
       " 14298,\n",
       " 14298,\n",
       " 17707,\n",
       " 15649,\n",
       " 13233,\n",
       " 15769,\n",
       " 15769,\n",
       " 15769,\n",
       " 15769,\n",
       " 15769,\n",
       " 15769,\n",
       " 15769,\n",
       " 15769,\n",
       " 13162,\n",
       " 12939,\n",
       " 12939,\n",
       " 12939,\n",
       " 12939,\n",
       " 14606,\n",
       " 12500,\n",
       " 12415,\n",
       " 12524,\n",
       " 14321,\n",
       " 14321,\n",
       " 17381,\n",
       " 13107,\n",
       " 14060,\n",
       " 14060,\n",
       " 15061,\n",
       " 15061,\n",
       " 15061,\n",
       " 15061,\n",
       " 15061,\n",
       " 15061,\n",
       " 15061,\n",
       " 15061,\n",
       " 17739,\n",
       " 15311,\n",
       " 15311,\n",
       " 12736,\n",
       " 17450,\n",
       " 17450,\n",
       " 17450,\n",
       " 17450,\n",
       " 17450,\n",
       " 17450,\n",
       " 15640,\n",
       " 14135,\n",
       " 14135,\n",
       " 16122,\n",
       " 17428,\n",
       " 17428,\n",
       " 12557,\n",
       " 12557,\n",
       " 12557,\n",
       " 12557,\n",
       " 12643,\n",
       " 17365,\n",
       " 13798,\n",
       " 13798,\n",
       " 15189,\n",
       " 15189,\n",
       " 15749,\n",
       " 15749,\n",
       " 15749,\n",
       " 15749,\n",
       " 15749,\n",
       " 15569,\n",
       " 13784,\n",
       " 16353,\n",
       " 17324,\n",
       " 17324,\n",
       " 17324,\n",
       " 17324,\n",
       " 16701,\n",
       " 16701,\n",
       " 15939,\n",
       " 15939,\n",
       " 15939,\n",
       " 15939,\n",
       " 12383,\n",
       " 15171,\n",
       " 13694,\n",
       " 13694,\n",
       " 13694,\n",
       " 13694,\n",
       " 13694,\n",
       " 13694,\n",
       " 13694,\n",
       " 13093,\n",
       " 13093,\n",
       " 15513,\n",
       " 15513,\n",
       " 16029,\n",
       " 16029,\n",
       " 18092,\n",
       " 18092,\n",
       " 13199,\n",
       " 15626,\n",
       " 13777,\n",
       " 14646,\n",
       " 14646,\n",
       " 14646,\n",
       " 14646,\n",
       " 14646,\n",
       " 14646,\n",
       " 14646,\n",
       " 14646,\n",
       " 14646,\n",
       " 14646,\n",
       " 14646,\n",
       " 14646,\n",
       " 14646,\n",
       " 14646,\n",
       " ...]"
      ]
     },
     "execution_count": 134,
     "metadata": {},
     "output_type": "execute_result"
    }
   ],
   "source": [
    "filtered_customers = df[df['Quantity'] > 50]['CustomerID'].tolist()\n",
    "filtered_customers"
   ]
  },
  {
   "cell_type": "markdown",
   "metadata": {},
   "source": [
    "#### Select orders from Spain that are above 50 items"
   ]
  },
  {
   "cell_type": "code",
   "execution_count": 137,
   "metadata": {
    "collapsed": true
   },
   "outputs": [
    {
     "data": {
      "text/plain": [
       "4250      536944\n",
       "4251      536944\n",
       "4252      536944\n",
       "4253      536944\n",
       "4254      536944\n",
       "32454     540785\n",
       "32455     540785\n",
       "32456     540785\n",
       "32457     540785\n",
       "91155     547972\n",
       "91156     547972\n",
       "91159     547972\n",
       "174442    558871\n",
       "174443    558871\n",
       "174444    558871\n",
       "174445    558871\n",
       "174446    558871\n",
       "174447    558871\n",
       "174448    558871\n",
       "174449    558871\n",
       "197167    561669\n",
       "197168    561669\n",
       "197169    561669\n",
       "197170    561669\n",
       "197171    561669\n",
       "224881    564734\n",
       "254097    567968\n",
       "289129    571255\n",
       "289134    571255\n",
       "289142    571255\n",
       "289143    571255\n",
       "295956    571851\n",
       "312655    573362\n",
       "312656    573362\n",
       "312657    573362\n",
       "366326    578321\n",
       "366327    578321\n",
       "366328    578321\n",
       "366329    578321\n",
       "Name: InvoiceNo, dtype: int64"
      ]
     },
     "execution_count": 137,
     "metadata": {},
     "output_type": "execute_result"
    }
   ],
   "source": [
    "facturas_espana = df.loc[(df[\"Country\"] == \"Spain\") & (df[\"Quantity\"] > 50), \"InvoiceNo\"]\n",
    "facturas_espana"
   ]
  },
  {
   "cell_type": "markdown",
   "metadata": {},
   "source": [
    "#### Select all free orders"
   ]
  },
  {
   "cell_type": "code",
   "execution_count": 138,
   "metadata": {
    "collapsed": true
   },
   "outputs": [
    {
     "data": {
      "text/plain": [
       "6914      537197\n",
       "22539     539263\n",
       "25379     539722\n",
       "29080     540372\n",
       "29082     540372\n",
       "34494     541109\n",
       "53788     543599\n",
       "85671     547417\n",
       "92875     548318\n",
       "97430     548871\n",
       "107192    550188\n",
       "128641    553000\n",
       "137127    554037\n",
       "194648    561284\n",
       "197173    561669\n",
       "199711    561916\n",
       "208950    562973\n",
       "223931    564651\n",
       "223932    564651\n",
       "223933    564651\n",
       "223934    564651\n",
       "256263    568158\n",
       "259399    568384\n",
       "273926    569716\n",
       "286507    571035\n",
       "307092    572893\n",
       "319882    574138\n",
       "320049    574175\n",
       "320407    574252\n",
       "322279    574469\n",
       "328385    574879\n",
       "329006    574920\n",
       "329007    574920\n",
       "334242    575579\n",
       "334243    575579\n",
       "352746    577129\n",
       "353097    577168\n",
       "354170    577314\n",
       "358629    577696\n",
       "370473    578841\n",
       "Name: InvoiceNo, dtype: int64"
      ]
     },
     "execution_count": 138,
     "metadata": {},
     "output_type": "execute_result"
    }
   ],
   "source": [
    "gratis = df.loc[df[\"UnitPrice\"] == 0, \"InvoiceNo\"]\n",
    "gratis"
   ]
  },
  {
   "cell_type": "markdown",
   "metadata": {},
   "source": [
    "#### Select all orders that are 'lunch bag'\n",
    "#### Hint: Use string functions"
   ]
  },
  {
   "cell_type": "code",
   "execution_count": 139,
   "metadata": {
    "collapsed": true
   },
   "outputs": [
    {
     "data": {
      "text/plain": [
       "93        536378\n",
       "172       536385\n",
       "354       536401\n",
       "359       536401\n",
       "360       536401\n",
       "           ...  \n",
       "397465    581486\n",
       "397713    581538\n",
       "397714    581538\n",
       "397877    581581\n",
       "397880    581583\n",
       "Name: InvoiceNo, Length: 11556, dtype: int64"
      ]
     },
     "execution_count": 139,
     "metadata": {},
     "output_type": "execute_result"
    }
   ],
   "source": [
    "facturas_lunch_bag = df.loc[df[\"Description\"].str.contains(\"lunch bag\", case=False), \"InvoiceNo\"]\n",
    "facturas_lunch_bag"
   ]
  },
  {
   "cell_type": "markdown",
   "metadata": {},
   "source": [
    "#### Select all orders that are made in 2011 and are 'lunch bag'  "
   ]
  },
  {
   "cell_type": "code",
   "execution_count": 144,
   "metadata": {
    "collapsed": true
   },
   "outputs": [
    {
     "data": {
      "text/plain": [
       "26340     540015\n",
       "26341     540015\n",
       "26512     540023\n",
       "26513     540023\n",
       "26860     540098\n",
       "           ...  \n",
       "397465    581486\n",
       "397713    581538\n",
       "397714    581538\n",
       "397877    581581\n",
       "397880    581583\n",
       "Name: InvoiceNo, Length: 11234, dtype: int64"
      ]
     },
     "execution_count": 144,
     "metadata": {},
     "output_type": "execute_result"
    }
   ],
   "source": [
    "facturas_lunch_bag_2011 = df.loc[(df[\"year\"] == 2011) & (df[\"Description\"].str.contains(\"lunch bag\", case=False)), \"InvoiceNo\"]\n",
    "facturas_lunch_bag_2011"
   ]
  },
  {
   "cell_type": "markdown",
   "metadata": {},
   "source": [
    "#### Show the frequency distribution of the amount spent in Spain."
   ]
  },
  {
   "cell_type": "code",
   "execution_count": 146,
   "metadata": {
    "collapsed": true
   },
   "outputs": [
    {
     "name": "stdout",
     "output_type": "stream",
     "text": [
      "amount_spent\n",
      "0.00       1\n",
      "0.21       3\n",
      "0.29       1\n",
      "0.39       3\n",
      "0.42       1\n",
      "          ..\n",
      "417.50     1\n",
      "488.16     2\n",
      "1080.00    1\n",
      "1220.40    2\n",
      "1350.00    3\n",
      "Name: count, Length: 316, dtype: int64\n"
     ]
    }
   ],
   "source": [
    "freq_dist = pd.value_counts(df[df['Country'] == 'Spain']['amount_spent']).sort_index()\n",
    "print(freq_dist)"
   ]
  },
  {
   "cell_type": "markdown",
   "metadata": {},
   "source": [
    "#### Select all orders made in the month of August"
   ]
  },
  {
   "cell_type": "code",
   "execution_count": 147,
   "metadata": {
    "collapsed": true
   },
   "outputs": [
    {
     "name": "stdout",
     "output_type": "stream",
     "text": [
      "117141    551515\n",
      "117142    551515\n",
      "117143    551515\n",
      "117144    551515\n",
      "117145    551515\n",
      "           ...  \n",
      "145458    555147\n",
      "145459    555147\n",
      "145460    555147\n",
      "145461    555147\n",
      "145462    555147\n",
      "Name: InvoiceNo, Length: 28322, dtype: int64\n"
     ]
    }
   ],
   "source": [
    "invoice_numbers = df.loc[df['month'] == 5, 'InvoiceNo']\n",
    "invoice_numbers"
   ]
  },
  {
   "cell_type": "markdown",
   "metadata": {},
   "source": [
    "#### Select how many orders are made by countries in the month of August\n",
    "##### Hint: Use value_counts()"
   ]
  },
  {
   "cell_type": "code",
   "execution_count": 149,
   "metadata": {
    "collapsed": true
   },
   "outputs": [
    {
     "data": {
      "text/plain": [
       "Country\n",
       "United Kingdom     25203\n",
       "Germany              764\n",
       "France               723\n",
       "EIRE                 525\n",
       "Netherlands          215\n",
       "Switzerland          151\n",
       "Belgium              147\n",
       "Australia            117\n",
       "Spain                105\n",
       "Portugal              80\n",
       "Poland                69\n",
       "Austria               51\n",
       "Unspecified           47\n",
       "Channel Islands       34\n",
       "Italy                 23\n",
       "Denmark               19\n",
       "Sweden                19\n",
       "Bahrain               17\n",
       "Japan                 12\n",
       "Canada                 1\n",
       "Name: count, dtype: int64"
      ]
     },
     "execution_count": 149,
     "metadata": {},
     "output_type": "execute_result"
    }
   ],
   "source": [
    "df_month5 = df.loc[df['month'] == 5]\n",
    "count_by_country = df_month5['Country'].value_counts()\n",
    "count_by_country"
   ]
  },
  {
   "cell_type": "markdown",
   "metadata": {},
   "source": [
    "#### What's the  average amount of money spent by country"
   ]
  },
  {
   "cell_type": "code",
   "execution_count": 151,
   "metadata": {
    "collapsed": true
   },
   "outputs": [
    {
     "name": "stdout",
     "output_type": "stream",
     "text": [
      "Country\n",
      "Australia               116.895620\n",
      "Austria                  25.624824\n",
      "Bahrain                  32.258824\n",
      "Belgium                  20.283772\n",
      "Brazil                   35.737500\n",
      "Canada                   24.280662\n",
      "Channel Islands          27.340160\n",
      "Cyprus                   22.134169\n",
      "Czech Republic           33.069600\n",
      "Denmark                  49.882474\n",
      "EIRE                     36.687745\n",
      "European Community       21.670833\n",
      "Finland                  32.913985\n",
      "France                   25.056827\n",
      "Germany                  25.311562\n",
      "Greece                   32.831172\n",
      "Iceland                  23.681319\n",
      "Israel                   29.119718\n",
      "Italy                    23.064960\n",
      "Japan                   116.561900\n",
      "Lebanon                  37.641778\n",
      "Lithuania                47.458857\n",
      "Malta                    24.335625\n",
      "Netherlands             120.798282\n",
      "Norway                   33.736418\n",
      "Poland                   22.226212\n",
      "Portugal                 22.872702\n",
      "RSA                      17.281207\n",
      "Saudi Arabia             16.213333\n",
      "Singapore                95.852658\n",
      "Spain                    24.779521\n",
      "Sweden                   85.096075\n",
      "Switzerland              30.642752\n",
      "USA                      20.002179\n",
      "United Arab Emirates     27.974706\n",
      "United Kingdom           20.625073\n",
      "Unspecified              10.930615\n",
      "Name: amount_spent, dtype: float64\n"
     ]
    }
   ],
   "source": [
    "mean_amount_spain_by_country = df.groupby('Country')['amount_spent'].mean()\n",
    "mean_amount_spain_by_country"
   ]
  },
  {
   "cell_type": "markdown",
   "metadata": {},
   "source": [
    "#### What's the most expensive item?"
   ]
  },
  {
   "cell_type": "code",
   "execution_count": 153,
   "metadata": {
    "collapsed": true
   },
   "outputs": [
    {
     "data": {
      "text/html": [
       "<div>\n",
       "<style scoped>\n",
       "    .dataframe tbody tr th:only-of-type {\n",
       "        vertical-align: middle;\n",
       "    }\n",
       "\n",
       "    .dataframe tbody tr th {\n",
       "        vertical-align: top;\n",
       "    }\n",
       "\n",
       "    .dataframe thead th {\n",
       "        text-align: right;\n",
       "    }\n",
       "</style>\n",
       "<table border=\"1\" class=\"dataframe\">\n",
       "  <thead>\n",
       "    <tr style=\"text-align: right;\">\n",
       "      <th></th>\n",
       "      <th>Unnamed: 0</th>\n",
       "      <th>InvoiceNo</th>\n",
       "      <th>StockCode</th>\n",
       "      <th>year</th>\n",
       "      <th>month</th>\n",
       "      <th>day</th>\n",
       "      <th>hour</th>\n",
       "      <th>Description</th>\n",
       "      <th>Quantity</th>\n",
       "      <th>InvoiceDate</th>\n",
       "      <th>UnitPrice</th>\n",
       "      <th>CustomerID</th>\n",
       "      <th>Country</th>\n",
       "      <th>amount_spent</th>\n",
       "    </tr>\n",
       "  </thead>\n",
       "  <tbody>\n",
       "    <tr>\n",
       "      <th>118352</th>\n",
       "      <td>173382</td>\n",
       "      <td>551697</td>\n",
       "      <td>POST</td>\n",
       "      <td>2011</td>\n",
       "      <td>5</td>\n",
       "      <td>2</td>\n",
       "      <td>13</td>\n",
       "      <td>postage</td>\n",
       "      <td>1</td>\n",
       "      <td>2011-05-03 13:46:00</td>\n",
       "      <td>8142.75</td>\n",
       "      <td>16029</td>\n",
       "      <td>United Kingdom</td>\n",
       "      <td>8142.75</td>\n",
       "    </tr>\n",
       "  </tbody>\n",
       "</table>\n",
       "</div>"
      ],
      "text/plain": [
       "        Unnamed: 0  InvoiceNo StockCode  year  month  day  hour Description   \n",
       "118352      173382     551697      POST  2011      5    2    13     postage  \\\n",
       "\n",
       "        Quantity          InvoiceDate  UnitPrice  CustomerID         Country   \n",
       "118352         1  2011-05-03 13:46:00    8142.75       16029  United Kingdom  \\\n",
       "\n",
       "        amount_spent  \n",
       "118352       8142.75  "
      ]
     },
     "execution_count": 153,
     "metadata": {},
     "output_type": "execute_result"
    }
   ],
   "source": [
    "max_unit_price_row = df.loc[df['UnitPrice'] == df['UnitPrice'].max()]\n",
    "max_unit_price_row"
   ]
  },
  {
   "cell_type": "markdown",
   "metadata": {},
   "source": [
    "#### What was the average amount spent per year ?"
   ]
  },
  {
   "cell_type": "code",
   "execution_count": 154,
   "metadata": {
    "collapsed": true
   },
   "outputs": [
    {
     "name": "stdout",
     "output_type": "stream",
     "text": [
      "year\n",
      "2010    21.892733\n",
      "2011    22.430074\n",
      "Name: amount_spent, dtype: float64\n"
     ]
    }
   ],
   "source": [
    "mean_amount_spent_by_year = df.groupby('year')['amount_spent'].mean()\n",
    "print(mean_amount_spent_by_year)"
   ]
  }
 ],
 "metadata": {
  "anaconda-cloud": {},
  "kernelspec": {
   "display_name": "Python 3 (ipykernel)",
   "language": "python",
   "name": "python3"
  },
  "language_info": {
   "codemirror_mode": {
    "name": "ipython",
    "version": 3
   },
   "file_extension": ".py",
   "mimetype": "text/x-python",
   "name": "python",
   "nbconvert_exporter": "python",
   "pygments_lexer": "ipython3",
   "version": "3.9.16"
  }
 },
 "nbformat": 4,
 "nbformat_minor": 1
}
